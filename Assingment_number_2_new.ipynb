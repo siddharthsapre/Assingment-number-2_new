{
  "nbformat": 4,
  "nbformat_minor": 0,
  "metadata": {
    "colab": {
      "provenance": []
    },
    "kernelspec": {
      "name": "python3",
      "display_name": "Python 3"
    },
    "language_info": {
      "name": "python"
    }
  },
  "cells": [
    {
      "cell_type": "markdown",
      "source": [
        "Q1. How do you comment code in Python? What are the different types of comments?"
      ],
      "metadata": {
        "id": "zmrhQcEMX0Ud"
      }
    },
    {
      "cell_type": "markdown",
      "source": [
        "1. Single-line comment\n",
        "Use the # symbol. Everything after # on the same line is treated as a comment.\n",
        "\n",
        "2. Using triple-quoted strings (''' or \"\"\"):\n",
        "These are actually string literals, not real comments, but if they are not assigned to a variable or used as docstrings, Python will ignore them.\n",
        "\n",
        "Eg."
      ],
      "metadata": {
        "id": "XVXIa-9PX3hk"
      }
    },
    {
      "cell_type": "code",
      "execution_count": null,
      "metadata": {
        "colab": {
          "base_uri": "https://localhost:8080/",
          "height": 35
        },
        "id": "WtMlWNGsXtch",
        "outputId": "f350fff7-73ce-4ee7-a815-88dc786d9e24"
      },
      "outputs": [
        {
          "output_type": "execute_result",
          "data": {
            "text/plain": [
              "'My Name is Siddharth A sapre and I am the resident of Lucknow City of Nawabs'"
            ],
            "application/vnd.google.colaboratory.intrinsic+json": {
              "type": "string"
            }
          },
          "metadata": {},
          "execution_count": 3
        }
      ],
      "source": [
        "#My name is Siddharth A Sapre#\n",
        "\n",
        "\"\"\"My Name is Siddharth A sapre and I am the resident of Lucknow City of Nawabs\"\"\"\n"
      ]
    },
    {
      "cell_type": "markdown",
      "source": [
        "Q2. What are variables in Python? How do you declare and assign values to variables?"
      ],
      "metadata": {
        "id": "AFPmxgMhXzCY"
      }
    },
    {
      "cell_type": "markdown",
      "source": [
        "Variables in Python are named containers used to store data values. They allow you to reference and manipulate data in your programs. The value stored in a variable can change during program execution — hence the name \"variable.\"\n",
        "\n",
        "variable_name = value\n",
        "= is the assignment operator.\n",
        "\n",
        "variable_name is the name you give to your variable.\n",
        "\n",
        "value can be a number, string, list, etc."
      ],
      "metadata": {
        "id": "82n34Aj4bTu-"
      }
    },
    {
      "cell_type": "markdown",
      "source": [
        "Q3. How do you convert one data type to another in Python?"
      ],
      "metadata": {
        "id": "zd01D97IbTRa"
      }
    },
    {
      "cell_type": "markdown",
      "source": [
        "| Function  | Converts To |\n",
        "| --------- | ----------- |\n",
        "| `int()`   | Integer     |\n",
        "| `float()` | Float       |\n",
        "| `str()`   | String      |\n",
        "| `bool()`  | Boolean     |\n",
        "| `list()`  | List        |\n",
        "| `tuple()` | Tuple       |\n",
        "| `set()`   | Set         |\n"
      ],
      "metadata": {
        "id": "tVFq9c2BgVWS"
      }
    },
    {
      "cell_type": "markdown",
      "source": [
        "Q4. How do you write and execute a Python script from the command line?"
      ],
      "metadata": {
        "id": "pu4M4dxkgrGg"
      }
    },
    {
      "cell_type": "markdown",
      "source": [
        " To write and execute a Python script from the command line, follow these steps:\n",
        "Step 1:You can write your Python script using any text editor, such as:\n",
        "\n",
        "Notepad (Windows)\n",
        "\n",
        "nano or vim (Linux/macOS)\n",
        "\n",
        "VS Code, Sublime Text, etc.\n",
        "\n",
        "Step 2:Save the Script\n",
        "Save the file with a .py extension, e.g., hello.py.\n",
        "\n",
        "Step 3:Open the Command Line\n",
        "\n",
        "Windows: Press Win + R, type cmd, and press Enter.\n",
        "\n",
        "macOS/Linux: Open Terminal.\n",
        "\n",
        "Step 4: Execute the Script\n",
        "Run the script using the python or python3 command, depending on your system:\n",
        "python hello.py\n",
        "\n"
      ],
      "metadata": {
        "id": "_jwh4ad9gqyM"
      }
    },
    {
      "cell_type": "markdown",
      "source": [
        "Q5. Given a list my_list = [1, 2, 3, 4, 5], write the code to slice the list and obtain the sub-list [2, 3]."
      ],
      "metadata": {
        "id": "N6u6AiQ6h2rF"
      }
    },
    {
      "cell_type": "code",
      "source": [
        "my_list = [1, 2, 3, 4, 5]\n",
        "sub_list = my_list[1:3]\n",
        "print(sub_list)\n"
      ],
      "metadata": {
        "id": "5lDdlfAjgktk",
        "colab": {
          "base_uri": "https://localhost:8080/"
        },
        "outputId": "363f6127-d29c-447d-99d6-45e0fcb2ad2c"
      },
      "execution_count": 8,
      "outputs": [
        {
          "output_type": "stream",
          "name": "stdout",
          "text": [
            "[2, 3]\n"
          ]
        }
      ]
    },
    {
      "cell_type": "markdown",
      "source": [
        "Q6. What Is a Complex Number in Mathematics?\n",
        "\n",
        "A complex number is a number that has both a real part and an imaginary part. It is typically written as:\n",
        "\n",
        "a + bi\n"
      ],
      "metadata": {
        "id": "LOaouaR4iSrw"
      }
    },
    {
      "cell_type": "markdown",
      "source": [
        "Q7. What is the correct way to declare a variable named age and assign the value 25 to it?\n",
        "\n",
        "Correct way to declare a variable named age and assign it the value 25 in Python:\n",
        "\n",
        "age = 25"
      ],
      "metadata": {
        "id": "nqrm7RZfiwIT"
      }
    },
    {
      "cell_type": "markdown",
      "source": [
        "Q8. Declare a variable named price and assign the value 9.99 to it. What data type does this variable\n",
        "belong to?\n",
        "\n",
        "Declaration of the variable:\n",
        "price = 9.99"
      ],
      "metadata": {
        "id": "k5ppnGkSjK5_"
      }
    },
    {
      "cell_type": "markdown",
      "source": [
        "Q9. Create a variable named name and assign your full name to it as a string. How would you print the value of this variable?\n",
        "\n",
        "Step 1: Declare the variable name and assign your full name as a string\n",
        "\n",
        "name = \"Siddharth A Sapre \"  # Replace with your actual name\n",
        "\n",
        "print(name)\n"
      ],
      "metadata": {
        "id": "7kyEqFlzkPdR"
      }
    },
    {
      "cell_type": "markdown",
      "source": [
        "Q10. Given the string \"Hello, World!\", extract the substring \"World\"."
      ],
      "metadata": {
        "id": "g11fGx8PlMWm"
      }
    },
    {
      "cell_type": "code",
      "source": [
        "\n",
        "text = \"Hello, World!\"\n",
        "substring = text[7:12]\n",
        "print(substring)\n"
      ],
      "metadata": {
        "colab": {
          "base_uri": "https://localhost:8080/"
        },
        "id": "7F6XHv0giRnH",
        "outputId": "5169e527-771a-4e19-dba3-1387997625f3"
      },
      "execution_count": 9,
      "outputs": [
        {
          "output_type": "stream",
          "name": "stdout",
          "text": [
            "World\n"
          ]
        }
      ]
    },
    {
      "cell_type": "markdown",
      "source": [
        "Q11. Create a variable named \"is_student\" and assign it a boolean value indicating whether you are currently a student or not.\n",
        "\n",
        "**# Variable to indicate if I am currently a student**\n",
        "is_student = True  # Change to False if you are not a student\n",
        "\n",
        "print(is_student)\n"
      ],
      "metadata": {
        "id": "43pe1jhgl-vS"
      }
    },
    {
      "cell_type": "code",
      "source": [],
      "metadata": {
        "id": "LFHOioxzgkgo"
      },
      "execution_count": null,
      "outputs": []
    },
    {
      "cell_type": "code",
      "source": [],
      "metadata": {
        "id": "yknoMTfYgkV1"
      },
      "execution_count": null,
      "outputs": []
    },
    {
      "cell_type": "code",
      "source": [],
      "metadata": {
        "id": "LNl_XzxCgkKO"
      },
      "execution_count": null,
      "outputs": []
    },
    {
      "cell_type": "code",
      "source": [],
      "metadata": {
        "id": "xuirtRlLakww"
      },
      "execution_count": null,
      "outputs": []
    },
    {
      "cell_type": "code",
      "source": [],
      "metadata": {
        "id": "JQrnQ4kPamcA"
      },
      "execution_count": null,
      "outputs": []
    },
    {
      "cell_type": "code",
      "source": [],
      "metadata": {
        "id": "ExzQCmQpamYE"
      },
      "execution_count": null,
      "outputs": []
    },
    {
      "cell_type": "code",
      "source": [],
      "metadata": {
        "id": "3bQ7Tg0iamNq"
      },
      "execution_count": null,
      "outputs": []
    },
    {
      "cell_type": "code",
      "source": [],
      "metadata": {
        "id": "Pz43i-nhamA6"
      },
      "execution_count": null,
      "outputs": []
    },
    {
      "cell_type": "code",
      "source": [],
      "metadata": {
        "id": "gnNNFEFuXyyN"
      },
      "execution_count": null,
      "outputs": []
    },
    {
      "cell_type": "code",
      "source": [],
      "metadata": {
        "id": "733jvCD6XyvN"
      },
      "execution_count": null,
      "outputs": []
    },
    {
      "cell_type": "code",
      "source": [],
      "metadata": {
        "id": "UysLZFZPXyrp"
      },
      "execution_count": null,
      "outputs": []
    },
    {
      "cell_type": "code",
      "source": [],
      "metadata": {
        "id": "qNsigo4KXyoK"
      },
      "execution_count": null,
      "outputs": []
    },
    {
      "cell_type": "code",
      "source": [],
      "metadata": {
        "id": "jujA8huRXyku"
      },
      "execution_count": null,
      "outputs": []
    },
    {
      "cell_type": "code",
      "source": [],
      "metadata": {
        "id": "N-LZdZY1XyhU"
      },
      "execution_count": null,
      "outputs": []
    }
  ]
}