{
  "nbformat": 4,
  "nbformat_minor": 0,
  "metadata": {
    "colab": {
      "provenance": []
    },
    "kernelspec": {
      "name": "python3",
      "display_name": "Python 3"
    },
    "language_info": {
      "name": "python"
    }
  },
  "cells": [
    {
      "cell_type": "markdown",
      "source": [
        "Q1. How do you comment code in Python? What are the different types of comments?"
      ],
      "metadata": {
        "id": "zmrhQcEMX0Ud"
      }
    },
    {
      "cell_type": "markdown",
      "source": [
        "1. Single-line comment\n",
        "Use the # symbol. Everything after # on the same line is treated as a comment.\n",
        "\n",
        "2. Using triple-quoted strings (''' or \"\"\"):\n",
        "These are actually string literals, not real comments, but if they are not assigned to a variable or used as docstrings, Python will ignore them.\n",
        "\n",
        "Eg."
      ],
      "metadata": {
        "id": "XVXIa-9PX3hk"
      }
    },
    {
      "cell_type": "code",
      "execution_count": 3,
      "metadata": {
        "colab": {
          "base_uri": "https://localhost:8080/",
          "height": 35
        },
        "id": "WtMlWNGsXtch",
        "outputId": "f350fff7-73ce-4ee7-a815-88dc786d9e24"
      },
      "outputs": [
        {
          "output_type": "execute_result",
          "data": {
            "text/plain": [
              "'My Name is Siddharth A sapre and I am the resident of Lucknow City of Nawabs'"
            ],
            "application/vnd.google.colaboratory.intrinsic+json": {
              "type": "string"
            }
          },
          "metadata": {},
          "execution_count": 3
        }
      ],
      "source": [
        "#My name is Siddharth A Sapre#\n",
        "\n",
        "\"\"\"My Name is Siddharth A sapre and I am the resident of Lucknow City of Nawabs\"\"\"\n"
      ]
    },
    {
      "cell_type": "markdown",
      "source": [
        "Q2. What are variables in Python? How do you declare and assign values to variables?"
      ],
      "metadata": {
        "id": "AFPmxgMhXzCY"
      }
    },
    {
      "cell_type": "markdown",
      "source": [
        "Variables in Python are named containers used to store data values. They allow you to reference and manipulate data in your programs. The value stored in a variable can change during program execution — hence the name \"variable.\"\n",
        "\n",
        "variable_name = value\n",
        "= is the assignment operator.\n",
        "\n",
        "variable_name is the name you give to your variable.\n",
        "\n",
        "value can be a number, string, list, etc."
      ],
      "metadata": {
        "id": "82n34Aj4bTu-"
      }
    },
    {
      "cell_type": "markdown",
      "source": [
        "Q3. How do you convert one data type to another in Python?"
      ],
      "metadata": {
        "id": "zd01D97IbTRa"
      }
    },
    {
      "cell_type": "markdown",
      "source": [
        "| Function  | Converts To |\n",
        "| --------- | ----------- |\n",
        "| `int()`   | Integer     |\n",
        "| `float()` | Float       |\n",
        "| `str()`   | String      |\n",
        "| `bool()`  | Boolean     |\n",
        "| `list()`  | List        |\n",
        "| `tuple()` | Tuple       |\n",
        "| `set()`   | Set         |\n"
      ],
      "metadata": {
        "id": "tVFq9c2BgVWS"
      }
    },
    {
      "cell_type": "markdown",
      "source": [
        "Q4. How do you write and execute a Python script from the command line?"
      ],
      "metadata": {
        "id": "pu4M4dxkgrGg"
      }
    },
    {
      "cell_type": "markdown",
      "source": [
        "Step 1: Write the Python Script\n",
        "Open a text editor (like Notepad, VS Code, Sublime Text).\n",
        "\n",
        "Write your Python code in the file."
      ],
      "metadata": {
        "id": "_jwh4ad9gqyM"
      }
    },
    {
      "cell_type": "markdown",
      "source": [],
      "metadata": {
        "id": "Dcg2e5KjgqgD"
      }
    },
    {
      "cell_type": "markdown",
      "source": [],
      "metadata": {
        "id": "VecHGkxQgqJJ"
      }
    },
    {
      "cell_type": "code",
      "source": [],
      "metadata": {
        "id": "gfooeoXDgk4V"
      },
      "execution_count": null,
      "outputs": []
    },
    {
      "cell_type": "code",
      "source": [],
      "metadata": {
        "id": "5lDdlfAjgktk"
      },
      "execution_count": null,
      "outputs": []
    },
    {
      "cell_type": "code",
      "source": [],
      "metadata": {
        "id": "LFHOioxzgkgo"
      },
      "execution_count": null,
      "outputs": []
    },
    {
      "cell_type": "code",
      "source": [],
      "metadata": {
        "id": "yknoMTfYgkV1"
      },
      "execution_count": null,
      "outputs": []
    },
    {
      "cell_type": "code",
      "source": [],
      "metadata": {
        "id": "LNl_XzxCgkKO"
      },
      "execution_count": null,
      "outputs": []
    },
    {
      "cell_type": "code",
      "source": [],
      "metadata": {
        "id": "xuirtRlLakww"
      },
      "execution_count": null,
      "outputs": []
    },
    {
      "cell_type": "code",
      "source": [],
      "metadata": {
        "id": "JQrnQ4kPamcA"
      },
      "execution_count": null,
      "outputs": []
    },
    {
      "cell_type": "code",
      "source": [],
      "metadata": {
        "id": "ExzQCmQpamYE"
      },
      "execution_count": null,
      "outputs": []
    },
    {
      "cell_type": "code",
      "source": [],
      "metadata": {
        "id": "3bQ7Tg0iamNq"
      },
      "execution_count": null,
      "outputs": []
    },
    {
      "cell_type": "code",
      "source": [],
      "metadata": {
        "id": "Pz43i-nhamA6"
      },
      "execution_count": null,
      "outputs": []
    },
    {
      "cell_type": "code",
      "source": [],
      "metadata": {
        "id": "gnNNFEFuXyyN"
      },
      "execution_count": null,
      "outputs": []
    },
    {
      "cell_type": "code",
      "source": [],
      "metadata": {
        "id": "733jvCD6XyvN"
      },
      "execution_count": null,
      "outputs": []
    },
    {
      "cell_type": "code",
      "source": [],
      "metadata": {
        "id": "UysLZFZPXyrp"
      },
      "execution_count": null,
      "outputs": []
    },
    {
      "cell_type": "code",
      "source": [],
      "metadata": {
        "id": "qNsigo4KXyoK"
      },
      "execution_count": null,
      "outputs": []
    },
    {
      "cell_type": "code",
      "source": [],
      "metadata": {
        "id": "jujA8huRXyku"
      },
      "execution_count": null,
      "outputs": []
    },
    {
      "cell_type": "code",
      "source": [],
      "metadata": {
        "id": "N-LZdZY1XyhU"
      },
      "execution_count": null,
      "outputs": []
    }
  ]
}